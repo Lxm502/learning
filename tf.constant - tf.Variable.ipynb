{
 "cells": [
  {
   "cell_type": "markdown",
   "id": "f47cff0b-7aae-42af-81cf-bf169dc8c79d",
   "metadata": {},
   "source": [
    "# tf.constant 和 tf.Variable \n",
    "是 TensorFlow 中用于创建 张量（tensor）对象 的两种基础方式，它们都可以用来表示数据，但功能和用途有所不同。\n",
    "\n",
    "### 🧱 1. tf.constant\n",
    "✅ 定义：\\\n",
    "表示不可变（immutable）的张量，创建后值不能修改。\n",
    "\n",
    "📌 用法："
   ]
  },
  {
   "cell_type": "code",
   "execution_count": 1,
   "id": "cf3f30ce-e1a6-4d8c-bdbc-2c231d4650d0",
   "metadata": {},
   "outputs": [
    {
     "name": "stdout",
     "output_type": "stream",
     "text": [
      "tf.Tensor([1. 2. 3.], shape=(3,), dtype=float32)\n"
     ]
    }
   ],
   "source": [
    "import tensorflow as tf\n",
    "\n",
    "a = tf.constant([1.0, 2.0, 3.0])\n",
    "print(a)"
   ]
  },
  {
   "cell_type": "markdown",
   "id": "9f8db90b-6a40-41bf-aa65-2708ac84741b",
   "metadata": {},
   "source": [
    "### 🧠 特点：\n",
    "| 特性              | 说明        |\n",
    "| --------------- | --------- |\n",
    "| 不可变             | 创建后数值无法更改 |\n",
    "| 用于模型参数中不需要更新的部分 | 如超参数、常量项  |\n",
    "| 可用于图构建或计算图输入    |           |\n",
    "\n",
    "💡 示例：\\\n",
    "c = tf.constant([[1, 2], [3, 4]]) \\\n",
    "c[0][0] = 100  # ❌ 错误：不能修改 constant 的值\n"
   ]
  },
  {
   "cell_type": "markdown",
   "id": "c13914c2-c77a-4ce4-ae7c-5a3113e526fb",
   "metadata": {},
   "source": [
    "### 🧱 2. tf.Variable\n",
    "✅ 定义：\\\n",
    "表示**可变（mutable）**的张量，通常用于表示模型的可训练参数，如神经网络的权重。\n",
    "\n",
    "📌 用法："
   ]
  },
  {
   "cell_type": "code",
   "execution_count": null,
   "id": "f27aea97-a66b-421d-a77f-23a81ae76429",
   "metadata": {},
   "outputs": [],
   "source": [
    "import tensorflow as tf\n",
    "v = tf.Variable([1.0, 2.0, 3.0])\n",
    "print(v)"
   ]
  },
  {
   "cell_type": "markdown",
   "id": "fd1f9277-acab-4863-ae0d-240f134e2bd3",
   "metadata": {},
   "source": [
    "### 🧠 特点：\n",
    "| 特性                                   | 说明                     |\n",
    "| ------------------------------------ | ---------------------- |\n",
    "| 可变                                   | 值可以被更新                 |\n",
    "| 常用于机器学习模型的权重                         | 用于 `GradientTape` 自动微分 |\n",
    "| 支持 `.assign()` 和 `.assign_add()` 等操作 |                        |\n",
    "\n",
    "💡 示例：\\\n",
    "v = tf.Variable([1, 2, 3]) \\\n",
    "v.assign([4, 5, 6])          # 替换值  \\\n",
    "v.assign_add([1, 1, 1])      # 加法更新  \n",
    "### ✅ 对比总结表：\n",
    "| 特征                     | `tf.constant` | `tf.Variable` |\n",
    "| ---------------------- | ------------- | ------------- |\n",
    "| 是否可变                   | ❌ 不可变         | ✅ 可变          |\n",
    "| 是否可训练                  | ❌ 否           | ✅ 是           |\n",
    "| 是否用于模型参数               | 🚫 一般不用       | ✅ 常用于权重、偏置    |\n",
    "| 是否支持 `.assign()` 等更新方法 | ❌ 否           | ✅ 是           |\n",
    "| 自动微分支持                 | ✅ 支持          | ✅ 支持          |\n",
    "\n",
    "### 📘 举个典型场景："
   ]
  },
  {
   "cell_type": "code",
   "execution_count": null,
   "id": "7882c6e3-1cc3-4813-adb5-bea33c32191c",
   "metadata": {},
   "outputs": [],
   "source": [
    "# 常量：学习率或标签\n",
    "learning_rate = tf.constant(0.01)\n",
    "\n",
    "# 可训练变量：模型权重\n",
    "W = tf.Variable(tf.random.normal([3, 2]), name='weight')\n",
    "b = tf.Variable(tf.zeros([2]), name='bias')"
   ]
  },
  {
   "cell_type": "code",
   "execution_count": null,
   "id": "14312faf-308a-4ad5-8d82-53eea8b7a255",
   "metadata": {},
   "outputs": [],
   "source": []
  },
  {
   "cell_type": "markdown",
   "id": "4aa6ce3a-ed2d-4470-bc5c-1f6e578f4d62",
   "metadata": {},
   "source": [
    "# .assign()、.assign_add() 和相关操作方法。\n",
    "## 🔧 一、.assign() —— 直接赋新值\n",
    "✅ 功能：将变量的值替换为一个新的值\n",
    "\n",
    "import tensorflow as tf\n",
    "\n",
    "v = tf.Variable([1.0, 2.0, 3.0])\\\n",
    "v.assign([4.0, 5.0, 6.0])\\\n",
    "print(v.numpy())  # 输出: [4. 5. 6.]\\\n",
    "📌 要求新值的形状和原始变量一致，否则报错。\n",
    "\n",
    "## ➕ 二、.assign_add() —— 原值累加\n",
    "✅ 功能：将变量的值增加一个值（原地加法）\n",
    "\n",
    "v = tf.Variable([1.0, 2.0, 3.0])\\\n",
    "v.assign_add([10.0, 10.0, 10.0])\\\n",
    "print(v.numpy())  # 输出: [11. 12. 13.]\n",
    "\n",
    "## ➖ 三、.assign_sub() —— 原值累减\n",
    "✅ 功能：将变量的值减去一个值（原地减法）\\\n",
    "\n",
    "v = tf.Variable([10.0, 10.0, 10.0])\\\n",
    "v.assign_sub([1.0, 2.0, 3.0])\\\n",
    "print(v.numpy())  # 输出: [9. 8. 7.]\n",
    "\n",
    "## 🚨 注意事项\n",
    "| 操作名             | 含义    | 是否原地操作 | 支持梯度传播 |\n",
    "| --------------- | ----- | ------ | ------ |\n",
    "| `.assign()`     | 赋新值   | ✅ 是    | ✅ 支持   |\n",
    "| `.assign_add()` | 原值加新值 | ✅ 是    | ✅ 支持   |\n",
    "| `.assign_sub()` | 原值减新值 | ✅ 是    | ✅ 支持   |\n",
    "\n",
    "--  这些操作必须用于 tf.Variable 类型。\\\n",
    "--  如果你对一个 tf.constant 使用 .assign() 会报错。\\\n",
    "--  支持在 tf.GradientTape() 环境中使用，依然可正常反向传播。\n",
    "\n",
    "### 💡 在训练中常见的用法"
   ]
  },
  {
   "cell_type": "code",
   "execution_count": null,
   "id": "b1323dbb-a366-46b3-ae50-c93eac584b88",
   "metadata": {},
   "outputs": [],
   "source": [
    "# 模拟梯度下降过程\n",
    "W = tf.Variable(5.0)\n",
    "\n",
    "with tf.GradientTape() as tape:\n",
    "    loss = (W - 3.0) ** 2  # 假设损失函数\n",
    "\n",
    "grad = tape.gradient(loss, W)\n",
    "W.assign_sub(0.1 * grad)  # 梯度下降一步\n",
    "\n",
    "print(W.numpy())  # 权重被更新\n"
   ]
  }
 ],
 "metadata": {
  "kernelspec": {
   "display_name": "Python [conda env:deepseek_env]",
   "language": "python",
   "name": "conda-env-deepseek_env-py"
  },
  "language_info": {
   "codemirror_mode": {
    "name": "ipython",
    "version": 3
   },
   "file_extension": ".py",
   "mimetype": "text/x-python",
   "name": "python",
   "nbconvert_exporter": "python",
   "pygments_lexer": "ipython3",
   "version": "3.12.9"
  }
 },
 "nbformat": 4,
 "nbformat_minor": 5
}
