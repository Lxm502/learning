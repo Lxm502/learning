{
 "cells": [
  {
   "cell_type": "markdown",
   "id": "2f6b9448-a9b5-4e2c-9cb1-5a621f7efdf4",
   "metadata": {},
   "source": [
    "# CatBoost 详尽介绍"
   ]
  },
  {
   "cell_type": "markdown",
   "id": "d2f09f96-c8e5-46f7-9235-39be94631637",
   "metadata": {},
   "source": [
    "## 1. 背景介绍"
   ]
  },
  {
   "cell_type": "raw",
   "id": "05e4697e-5c15-4eed-89da-090564648572",
   "metadata": {},
   "source": [
    "CatBoost 是由俄罗斯搜索引擎公司 Yandex 开发的基于梯度提升树（GBDT，Gradient Boosting Decision Trees）的机器学习框架。\n",
    "\n",
    "全称：Categorical Boosting\n",
    "\n",
    "首次发布：2017年\n",
    "\n",
    "设计目标：有效处理类别型特征（categorical features），解决传统 GBDT 对类别特征处理不理想、需要大量预处理的问题。"
   ]
  },
  {
   "cell_type": "markdown",
   "id": "a02f8cea-f480-47ff-943c-d6fdb9569a85",
   "metadata": {},
   "source": [
    "## 2. 核心特点"
   ]
  },
  {
   "cell_type": "raw",
   "id": "470e1053-2e40-4d8a-ab13-0025385d23e6",
   "metadata": {},
   "source": [
    "原生支持类别特征：不需要手动进行One-Hot编码或Label Encoding，能直接使用字符串类别数据。\n",
    "\n",
    "防止目标泄漏（Target Leakage）：创新的类别特征编码方式（Ordered Target Statistics），避免训练时用到未来信息导致过拟合。\n",
    "\n",
    "高性能训练：支持CPU和GPU加速，训练速度快，能处理大规模数据。\n",
    "\n",
    "支持多种任务：分类、回归、排序、时间序列等。\n",
    "\n",
    "自动处理缺失值。\n",
    "\n",
    "支持多语言接口：Python、R、Java、C++等。\n",
    "\n",
    "良好的模型解释性，支持特征重要性分析。"
   ]
  },
  {
   "cell_type": "markdown",
   "id": "0310967b-588c-4a67-a01c-b3a810c1e590",
   "metadata": {},
   "source": [
    "## 3. 工作原理"
   ]
  },
  {
   "cell_type": "markdown",
   "id": "64b237e8-94ed-4ddd-be64-90911b5a830d",
   "metadata": {},
   "source": [
    "### 3.1 梯度提升树（GBDT）"
   ]
  },
  {
   "cell_type": "raw",
   "id": "4f959c9e-fc71-4e1b-8639-1e9377ff657d",
   "metadata": {},
   "source": [
    "CatBoost 基于 GBDT，使用决策树逐步拟合残差，迭代提升模型。"
   ]
  },
  {
   "cell_type": "markdown",
   "id": "2ed13fbc-3171-4174-948a-17c01b790551",
   "metadata": {},
   "source": [
    "### 3.2 类别特征处理"
   ]
  },
  {
   "cell_type": "raw",
   "id": "9f8b701b-f9dd-4488-8d1e-6bc815eb1782",
   "metadata": {},
   "source": [
    "传统类别编码方式如 Label Encoding、One-Hot Encoding 存在以下问题：\n",
    "\n",
    "1、Label Encoding 可能引入虚假的顺序关系。\n",
    "\n",
    "2、One-Hot 编码会导致高维稀疏，计算开销大。\n",
    "\n",
    "3、使用目标编码可能导致目标泄漏（训练数据中标签信息泄露给模型）。\n",
    "\n",
    "CatBoost 采用了“有序Boosting”和“有序统计编码”策略：\n",
    "\n",
    "1、有序Boosting：在训练每棵树时，样本以随机顺序排列，当前样本的类别编码只基于之前样本的目标信息，避免未来信息泄漏。\n",
    "\n",
    "2、采用多次随机排列，取平均值稳定编码。\n",
    "\n",
    "这种方式保证类别编码过程不利用未来标签，有效降低过拟合风险。"
   ]
  },
  {
   "cell_type": "markdown",
   "id": "db7e6d8e-d67e-46ff-b83b-5dc76c2fe82b",
   "metadata": {},
   "source": [
    "### 3.3 有序Boosting vs 普通Boosting"
   ]
  },
  {
   "cell_type": "raw",
   "id": "c1aba69c-51b4-4a4d-9624-e90cffb8a153",
   "metadata": {},
   "source": [
    "有序Boosting是CatBoost独特的训练策略，用来解决传统GBDT在类别编码时的目标泄漏问题，提升模型泛化能力。"
   ]
  },
  {
   "cell_type": "markdown",
   "id": "bb044c0a-a315-4d90-8be8-652cacd04bb0",
   "metadata": {},
   "source": [
    "## 4. 常用参数说明\n",
    "\n",
    "#### 创建Pool数据结构\n",
    "train_pool = Pool( data=X, label=y, cat_features=cat_features)\n",
    "\n",
    "#### 初始化模型\n",
    "model = CatBoostClassifier(iterations=200,\n",
    "                           learning_rate=0.1,\n",
    "                           depth=6,\n",
    "                           verbose=50)"
   ]
  },
  {
   "cell_type": "markdown",
   "id": "61c197d2-2561-49dd-a6e6-4c919b9334dc",
   "metadata": {},
   "source": [
    "| 参数                      | 说明                                  | 常用示例值                |\n",
    "| ----------------------- | ----------------------------------- | -------------------- |\n",
    "| iterations              | 训练的树的数量（最大迭代次数）                     | 1000                 |\n",
    "| learning\\_rate          | 学习率，控制每棵树的贡献大小                      | 0.03-0.1             |\n",
    "| depth                   | 树的最大深度                              | 6                    |\n",
    "| loss\\_function          | 损失函数，如 `Logloss` (二分类), `RMSE` (回归) | 自动推断或显式指定            |\n",
    "| cat\\_features           | 指定类别特征的列名或索引                        | `['city', 'gender']` |\n",
    "| eval\\_metric            | 评估指标，如 `AUC`, `Accuracy`            | 根据任务选取               |\n",
    "| random\\_seed            | 随机种子，保证结果复现                         | 42                   |\n",
    "| early\\_stopping\\_rounds | 早停轮数，防止过拟合                          | 50                   |\n",
    "| task\\_type              | 训练类型，如 `'CPU'` 或 `'GPU'`            | `'CPU'` 或 `'GPU'`    |\n"
   ]
  },
  {
   "cell_type": "markdown",
   "id": "0772a40b-00ec-46d9-8086-8c8384fa1be7",
   "metadata": {},
   "source": [
    "## 5. 优缺点分析\n",
    "优点\n",
    "\n",
    "原生支持类别特征，无需预处理，使用方便。\n",
    "\n",
    "防止目标泄漏，泛化能力强。\n",
    "\n",
    "训练速度快，支持CPU/GPU。\n",
    "\n",
    "多种任务支持，应用广泛。\n",
    "\n",
    "多语言接口丰富。\n",
    "\n",
    "缺点\n",
    "\n",
    "参数较多，新手需要时间熟悉调参。\n",
    "\n",
    "有序Boosting训练时序列化操作增加计算开销，单次训练时间可能稍长。\n",
    "\n",
    "对极大规模数据集在某些场景下可能稍逊于LightGBM。"
   ]
  },
  {
   "cell_type": "markdown",
   "id": "419480ba-0542-44d3-8d4f-34938dd6a1b0",
   "metadata": {},
   "source": [
    "## 6. 简单使用示例（Python）"
   ]
  },
  {
   "cell_type": "code",
   "execution_count": null,
   "id": "f4689639-652b-4163-9cff-e633542930b5",
   "metadata": {},
   "outputs": [],
   "source": [
    "from catboost import CatBoostClassifier, Pool\n",
    "import pandas as pd\n",
    "\n",
    "# 创建示例数据\n",
    "data = {\n",
    "    'city': ['北京', '上海', '广州', '北京', '上海'],\n",
    "    'age': [25, 30, 45, 35, 40],\n",
    "    'buy': [1, 0, 1, 0, 1]\n",
    "}\n",
    "df = pd.DataFrame(data)\n",
    "\n",
    "X = df[['city', 'age']]\n",
    "y = df['buy']\n",
    "\n",
    "# 指定类别特征\n",
    "cat_features = ['city']\n",
    "\n",
    "# 创建Pool数据结构\n",
    "train_pool = Pool(data=X, label=y, cat_features=cat_features)\n",
    "\n",
    "# 初始化模型\n",
    "model = CatBoostClassifier(iterations=200,\n",
    "                           learning_rate=0.1,\n",
    "                           depth=6,\n",
    "                           verbose=50)  #  verbose：打印训练进度。\n",
    "\n",
    "# 训练模型\n",
    "model.fit(train_pool)\n",
    "\n",
    "# 预测\n",
    "preds = model.predict(X)\n",
    "print(\"预测结果:\", preds)\n"
   ]
  },
  {
   "cell_type": "markdown",
   "id": "b6d99e71-139b-43b5-9b37-3db861e1bfb3",
   "metadata": {},
   "source": [
    "## CatBoost 常用方法概览"
   ]
  },
  {
   "cell_type": "markdown",
   "id": "393b1d9b-4320-4c80-9f7e-f71031033ab6",
   "metadata": {},
   "source": [
    "### 1. 模型构造与训练"
   ]
  },
  {
   "cell_type": "raw",
   "id": "6bef419f-54ba-4def-8947-e0f147b9075c",
   "metadata": {},
   "source": [
    "CatBoostClassifier() / CatBoostRegressor()\n",
    "\n",
    "创建分类或回归模型对象，支持传入参数，如学习率、迭代次数、深度等。\n",
    "\n",
    "model.fit(X, y, cat_features=None, eval_set=None, use_best_model=False, verbose=True, ...)\n",
    "\n",
    "训练模型。\n",
    "\n",
    "参数说明：\n",
    "\n",
    "X, y：训练特征和标签。\n",
    "\n",
    "cat_features：指定类别特征的列索引或名称。\n",
    "\n",
    "eval_set：验证集，用于早停和调优。\n",
    "\n",
    "use_best_model：是否使用验证集的最优模型。\n",
    "\n",
    "verbose：打印训练进度。"
   ]
  },
  {
   "cell_type": "markdown",
   "id": "1f84d19a-b457-492f-be34-866806627c00",
   "metadata": {},
   "source": [
    "### 2. 预测"
   ]
  },
  {
   "cell_type": "raw",
   "id": "e9d23547-1643-4e6f-aa3d-112c1fe67b36",
   "metadata": {},
   "source": [
    "model.predict(X, prediction_type='Class', ntree_start=0, ntree_end=0)\n",
    "\n",
    "对输入数据做预测。prediction_type 可以指定输出类型，如类别、概率、叶子索引等。\n",
    "\n",
    ".predict_proba(X)  --->  预测分类概率。\n",
    "\n",
    ".predict_leaf(X)  --->  返回每棵树叶节点的索引。\n",
    "\n",
    ".predict_raw(X)  --->  返回模型的原始分数。"
   ]
  },
  {
   "cell_type": "markdown",
   "id": "812cea9e-fbcc-400a-9c97-6bf77791d2c3",
   "metadata": {},
   "source": [
    "### 3. 模型评估和调试"
   ]
  },
  {
   "cell_type": "code",
   "execution_count": null,
   "id": "53dc154d-15d9-4a19-9cc9-49f0ef392430",
   "metadata": {},
   "outputs": [],
   "source": [
    ".get_feature_importance(data=None, fstr_type='FeatureImportance', thread_count=-1, ...) --->  获取特征重要性。\n",
    "\n",
    "fstr_type 可以是 FeatureImportance、ShapValues、PredictionValuesChange 等。\n",
    "\n",
    ".get_best_score()  --->  返回验证集上的最佳分数。\n",
    "\n",
    ".get_params()  --->  获取模型参数。\n",
    "\n",
    ".set_params(**params)  --->  设置模型参数。"
   ]
  },
  {
   "cell_type": "markdown",
   "id": "3e300d63-e17f-4a64-bf7e-99260c59b97c",
   "metadata": {},
   "source": [
    "### 4. 模型保存与加载"
   ]
  },
  {
   "cell_type": "code",
   "execution_count": null,
   "id": "60092a77-ea62-44a8-9f80-48ce12f7aefb",
   "metadata": {},
   "outputs": [],
   "source": [
    ".save_model(fname, format='cbm', export_parameters=None, ...)  --->  保存模型文件。\n",
    "\n",
    ".load_model(fname, format='cbm', ...)  --->  加载已保存的模型。"
   ]
  },
  {
   "cell_type": "markdown",
   "id": "d49d85aa-a9a7-4b02-b788-af7836b9bb63",
   "metadata": {},
   "source": [
    "\n",
    "### 5. 交叉验证"
   ]
  },
  {
   "cell_type": "code",
   "execution_count": null,
   "id": "0eca5f66-6881-436b-a338-61eb9ace0123",
   "metadata": {},
   "outputs": [],
   "source": [
    "catboost.cv(pool, params, fold_count=3, inverted=False, shuffle=True, partition_random_seed=0, stratified=False, ...)\n",
    "\n",
    "进行交叉验证，返回折叠结果。"
   ]
  },
  {
   "cell_type": "markdown",
   "id": "3c38d06e-e44b-4542-810e-2abfe8293ca6",
   "metadata": {},
   "source": [
    "## 具体示例"
   ]
  },
  {
   "cell_type": "code",
   "execution_count": null,
   "id": "d61e44c4-e42e-4062-a7b8-e613564937bd",
   "metadata": {},
   "outputs": [],
   "source": [
    "from catboost import CatBoostClassifier, Pool, cv\n",
    "\n",
    "# 1. 准备数据\n",
    "X = [[1, 'A'], [2, 'B'], [3, 'A'], [4, 'B']]\n",
    "y = [0, 1, 0, 1]\n",
    "cat_features = [1]  # 第二列是类别特征\n",
    "\n",
    "# 2. 创建模型\n",
    "model = CatBoostClassifier(iterations=100, learning_rate=0.1, depth=6)\n",
    "\n",
    "# 3. 训练\n",
    "model.fit(X, y, cat_features=cat_features, verbose=10)\n",
    "\n",
    "# 4. 预测\n",
    "preds = model.predict(X)\n",
    "\n",
    "# 5. 获取特征重要性\n",
    "fi = model.get_feature_importance()\n",
    "\n",
    "# 6. 保存模型\n",
    "model.save_model(\"catboost_model.cbm\")\n",
    "\n",
    "# 7. 加载模型\n",
    "model2 = CatBoostClassifier()\n",
    "model2.load_model(\"catboost_model.cbm\")\n",
    "\n",
    "# 8. 交叉验证\n",
    "pool = Pool(data=X, label=y, cat_features=cat_features)\n",
    "cv_data = cv(pool, params={'iterations': 100, 'depth': 6}, fold_count=3)\n"
   ]
  },
  {
   "cell_type": "markdown",
   "id": "e053c623-4cba-41bf-9f05-1b16b8bb8f89",
   "metadata": {},
   "source": [
    "# CatBoost 调参技巧详解"
   ]
  },
  {
   "cell_type": "code",
   "execution_count": null,
   "id": "65470b67-c2de-4568-89ad-12ce86f84424",
   "metadata": {},
   "outputs": [],
   "source": [
    "## 1. 重要参数介绍"
   ]
  },
  {
   "cell_type": "code",
   "execution_count": null,
   "id": "f76d61f9-0119-4e7a-b1e0-d0d0b54f4c4c",
   "metadata": {},
   "outputs": [],
   "source": [
    "| 参数                      | 作用                                                | 推荐调整思路                              |\n",
    "| ----------------------- | ------------------------------------------------- | ----------------------------------- |\n",
    "| `iterations`            | 树的总数（迭代次数）                                        | 适当增大，结合早停确定最佳迭代次数                   |\n",
    "| `learning_rate`         | 学习率，控制每棵树的贡献大小                                    | 先用较大值快速训练，再减小微调                     |\n",
    "| `depth`                 | 树的深度，控制模型复杂度                                      | 4\\~10之间调试，防止过拟合                     |\n",
    "| `l2_leaf_reg`           | L2正则化系数，防止过拟合                                     | 3\\~10间调整，数值越大正则化越强                  |\n",
    "| `border_count`          | 数值特征分箱数，影响精度和速度                                   | 默认128，调整对速度和精度有影响                   |\n",
    "| `bagging_temperature`   | 控制随机样本采样强度，影响过拟合和泛化                               | 0\\~1之间调节，越大随机性越强                    |\n",
    "| `random_strength`       | 分类特征随机强度，防止过拟合                                    | 1\\~20之间调节                           |\n",
    "| `grow_policy`           | 树的生长策略（`SymmetricTree`, `Depthwise`, `Lossguide`） | `SymmetricTree`是默认，`Lossguide`适合大数据 |\n",
    "| `early_stopping_rounds` | 早停轮数，避免过拟合                                        | 50\\~100之间，根据验证集效果调整                 |\n"
   ]
  },
  {
   "cell_type": "markdown",
   "id": "01449a98-bbf5-4039-9f7d-ca13821c9ae8",
   "metadata": {},
   "source": [
    "## 2. 调参流程建议"
   ]
  },
  {
   "cell_type": "markdown",
   "id": "1e56d33a-4bad-44ee-93b4-193b1f6ac593",
   "metadata": {},
   "source": [
    "### 2.1 确定训练轮数和学习率\n",
    "先设置一个较大的 iterations（如 1000~2000）。\n",
    "\n",
    "用较小的 learning_rate（0.03~0.1）。\n",
    "\n",
    "利用 early_stopping_rounds 让训练自动停止，找到最佳迭代次数。\n",
    "\n",
    "### 2.2 调整树深度 depth\n",
    "深度越大，模型越复杂，容易过拟合。\n",
    "\n",
    "先从6开始尝试，调小可以防过拟合，调大提升拟合能力。\n",
    "\n",
    "### 2.3 正则化调节\n",
    "调整 l2_leaf_reg，增加可减轻过拟合。\n",
    "\n",
    "调节 bagging_temperature 和 random_strength，提升模型泛化。\n",
    "\n",
    "### 2.4 类别特征参数\n",
    "CatBoost自动处理类别特征，但可以调节 one_hot_max_size 参数（类别数较少时用 One-Hot，类别多时用统计编码）。\n",
    "\n",
    "注意不要对类别特征做过多手工编码。\n",
    "\n",
    "### 2.5 选择合适的生长策略 grow_policy\n",
    "默认 SymmetricTree（对称树）训练快，效果好。\n",
    "\n",
    "对大数据或复杂任务，试试 Lossguide。"
   ]
  },
  {
   "cell_type": "markdown",
   "id": "92049588-ff84-49e5-940e-0d45bb309529",
   "metadata": {},
   "source": [
    "## 3. 具体调参示例（Python）"
   ]
  },
  {
   "cell_type": "code",
   "execution_count": null,
   "id": "478305f9-f927-4696-b99a-4264684a4f20",
   "metadata": {},
   "outputs": [],
   "source": [
    "from catboost import CatBoostClassifier, Pool\n",
    "\n",
    "model = CatBoostClassifier(\n",
    "    iterations=2000,\n",
    "    learning_rate=0.05,\n",
    "    depth=7,\n",
    "    l2_leaf_reg=5,\n",
    "    bagging_temperature=1,\n",
    "    random_strength=10,\n",
    "    early_stopping_rounds=100,\n",
    "    grow_policy='SymmetricTree',\n",
    "    verbose=100\n",
    ")\n",
    "\n",
    "train_pool = Pool(data=X_train, label=y_train, cat_features=cat_features)\n",
    "eval_pool = Pool(data=X_val, label=y_val, cat_features=cat_features)\n",
    "\n",
    "model.fit(train_pool, eval_set=eval_pool, use_best_model=True)\n"
   ]
  },
  {
   "cell_type": "markdown",
   "id": "a2e88225-f59a-46b4-b01d-659604f6084d",
   "metadata": {},
   "source": [
    "## 4. 其他实用建议\n",
    "多次训练取平均：设置不同随机种子，多次训练，结果取平均降低波动。\n",
    "\n",
    "交叉验证：使用 cv() 函数做 K 折交叉验证，寻找稳定的参数组合。\n",
    "\n",
    "调参工具：结合 Optuna、Hyperopt 等自动调参库，效率更高。\n",
    "\n",
    "GPU 加速：训练时加参数 task_type='GPU'，能大幅加快训练速度。"
   ]
  },
  {
   "cell_type": "markdown",
   "id": "42bc5236-bda4-4bbe-be34-b94a8a2e92a5",
   "metadata": {},
   "source": [
    "## 5. 调参思路总结"
   ]
  },
  {
   "cell_type": "markdown",
   "id": "2cad085b-c8ed-4690-8dc0-309340348b11",
   "metadata": {},
   "source": [
    "| 调参阶段    | 重点调整参数                                   | 目标            |\n",
    "| ------- | ---------------------------------------- | ------------- |\n",
    "| 初步训练    | `iterations`, `learning_rate`            | 找到合理的训练轮数和学习率 |\n",
    "| 模型复杂度调整 | `depth`, `l2_leaf_reg`                   | 控制模型的拟合与泛化    |\n",
    "| 泛化能力提升  | `bagging_temperature`, `random_strength` | 防止过拟合，增强鲁棒性   |\n",
    "| 训练策略优化  | `grow_policy`, `early_stopping_rounds`   | 提升训练速度和防止过拟合  |\n"
   ]
  },
  {
   "cell_type": "code",
   "execution_count": null,
   "id": "a5e66d14-f1c4-425f-8f54-903ea93bcd96",
   "metadata": {},
   "outputs": [],
   "source": []
  }
 ],
 "metadata": {
  "kernelspec": {
   "display_name": "Python [conda env:deepseek_env]",
   "language": "python",
   "name": "conda-env-deepseek_env-py"
  },
  "language_info": {
   "codemirror_mode": {
    "name": "ipython",
    "version": 3
   },
   "file_extension": ".py",
   "mimetype": "text/x-python",
   "name": "python",
   "nbconvert_exporter": "python",
   "pygments_lexer": "ipython3",
   "version": "3.12.9"
  }
 },
 "nbformat": 4,
 "nbformat_minor": 5
}
