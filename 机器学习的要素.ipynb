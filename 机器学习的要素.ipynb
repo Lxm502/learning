{
 "cells": [
  {
   "cell_type": "markdown",
   "id": "dac104eb-e02d-4ed5-910b-07668ca3f11b",
   "metadata": {},
   "source": [
    "# 机器学习的三要素"
   ]
  },
  {
   "cell_type": "markdown",
   "id": "229f04df-1d59-489d-884e-7b276831eedb",
   "metadata": {},
   "source": [
    "# 1、模型-->学什么？"
   ]
  },
  {
   "cell_type": "raw",
   "id": "30b4047f-706b-4b00-b053-2930529880cb",
   "metadata": {},
   "source": [
    "模型是对现实问题的数学建模，是输入与输出之间的数学关系。\n",
    "简写成：y=f(x;θ) 其中：\n",
    "y : 输出（目标）\n",
    "f() : 假设函数 或称 模型结构\n",
    "x : 输入特征（数据）\n",
    "θ ： 模型的参数（待训练的）"
   ]
  },
  {
   "cell_type": "markdown",
   "id": "91120a9f-742e-4552-afed-3fe76db2e562",
   "metadata": {},
   "source": [
    "### 1.1、模型的类型与适用范围"
   ]
  },
  {
   "cell_type": "markdown",
   "id": "0fe69db3-74ad-4e1f-b263-91cf4c09e878",
   "metadata": {},
   "source": [
    "| 模型类型 | 代表模型                    | 适用任务       | 特点/优势          |\n",
    "| ---- | ----------------------- | ---------- | -------------- |\n",
    "| 线性模型 | 线性回归、逻辑回归               | 分类、回归      | 简单、快、可解释       |\n",
    "| 树模型  | 决策树、随机森林、XGBoost        | 分类、回归      | 非线性、强大鲁棒性      |\n",
    "| SVM  | 支持向量分类/回归               | 分类、回归      | 高维、边界清晰任务      |\n",
    "| KNN  | 最近邻分类                   | 分类、回归      | 简单但计算慢         |\n",
    "| 神经网络 | ANN、CNN、RNN、Transformer | 图像、文本、语音   | 拟合能力强，需大量数据    |\n",
    "| 聚类   | K-Means、DBSCAN          | 聚类         | 发现自然分组         |\n",
    "| 降维   | PCA、t-SNE、UMAP          | 降维、可视化     | 压缩高维数据，辅助建模    |\n",
    "| 强化学习 | DQN、PPO、A3C             | 决策、控制      | 与环境交互，适合长期策略学习 |\n",
    "| 生成模型 | GAN、VAE、Diffusion       | 图像/文本/音频生成 | 生成逼真样本         |\n"
   ]
  },
  {
   "cell_type": "markdown",
   "id": "28abcb04-dd9f-405e-887b-b533537eb84f",
   "metadata": {},
   "source": [
    "### 1.2、常见的模型和用途"
   ]
  },
  {
   "cell_type": "markdown",
   "id": "00a74bb5-4b16-4c15-909a-d9d725e90ee4",
   "metadata": {},
   "source": [
    "#### 🔷 一、监督学习算法（Supervised Learning）\n",
    "✅ 特点：输入数据有明确的标签（label）\n",
    "✅ 应用：分类、回归、评分、预测等"
   ]
  },
  {
   "cell_type": "markdown",
   "id": "baec3ee6-4eab-4aa1-91ee-deaebda3fa43",
   "metadata": {},
   "source": [
    "| 算法名称                                      | 类型    | 常见用途                    |\n",
    "| ----------------------------------------- | ----- | ----------------------- |\n",
    "| **线性回归**                                  | 回归    | 房价预测、股价预测、广告点击率预测       |\n",
    "| **逻辑回归**                                  | 分类    | 二分类任务，如垃圾邮件检测、疾病预测      |\n",
    "| **决策树**                                   | 分类/回归 | 客户流失预测、风险评估、医疗诊断        |\n",
    "| **随机森林**                                  | 分类/回归 | 信贷审批、商品推荐、信用评分          |\n",
    "| **支持向量机（SVM）**                            | 分类/回归 | 图像识别、人脸识别、小样本分类         |\n",
    "| **K 近邻（KNN）**                             | 分类/回归 | 推荐系统、文本分类、图像去重          |\n",
    "| **梯度提升树（GBDT/XGBoost/LightGBM/CatBoost）** | 分类/回归 | Kaggle竞赛、CTR预估、反欺诈、信用评估 |\n",
    "| **朴素贝叶斯**                                 | 分类    | 文本分类、垃圾邮件过滤、情感分析        |\n",
    "| **神经网络（MLP）**                             | 分类/回归 | 表格数据建模、图像/文本处理          |\n"
   ]
  },
  {
   "cell_type": "markdown",
   "id": "13e079c4-3c03-458e-a986-498f5f3b7f62",
   "metadata": {},
   "source": [
    "#### 🔷 二、无监督学习算法（Unsupervised Learning）\n",
    "✅ 特点：数据没有标签\n",
    "\n",
    "✅ 应用：聚类、降维、可视化、异常检测"
   ]
  },
  {
   "cell_type": "markdown",
   "id": "eac81f8a-76ea-4b3f-833f-4cc819ec4d11",
   "metadata": {},
   "source": [
    "| 算法名称                   | 类型      | 常见用途             |\n",
    "| ---------------------- | ------- | ---------------- |\n",
    "| **K-Means**            | 聚类      | 客户分群、市场细分、图像压缩   |\n",
    "| **层次聚类（Hierarchical）** | 聚类      | 基因序列分析、客户画像      |\n",
    "| **DBSCAN**             | 聚类      | 空间聚类、异常检测（任意形状簇） |\n",
    "| **主成分分析（PCA）**         | 降维      | 特征压缩、可视化、高维数据预处理 |\n",
    "| **t-SNE / UMAP**       | 可视化     | 图像、文本嵌入后的可视化     |\n",
    "| **自编码器（AutoEncoder）**  | 降维/异常检测 | 图像压缩、数据去噪、异常检测   |\n"
   ]
  },
  {
   "cell_type": "markdown",
   "id": "3538ce3e-17f7-4e53-ad34-b1bf255e323e",
   "metadata": {},
   "source": [
    "#### 🔷 三、半监督学习算法（Semi-supervised Learning）\n",
    "✅ 特点：数据中只有部分样本有标签\n",
    "\n",
    "✅ 应用：医学图像、语音识别、标注成本高的场景"
   ]
  },
  {
   "cell_type": "markdown",
   "id": "68fdae68-9ecc-466a-8f79-b342f6fbfe3e",
   "metadata": {},
   "source": [
    "| 方法名称               | 常见用途       |\n",
    "| ------------------ | ---------- |\n",
    "| 伪标签（Pseudo Label）  | 图像/文本分类任务  |\n",
    "| 一致性训练（Consistency） | NLP、语音建模   |\n",
    "| 图神经网络（GNN）         | 推荐系统、社交图建模 |\n"
   ]
  },
  {
   "cell_type": "markdown",
   "id": "f04f422c-7e37-4fe6-ab2f-b6c7917049b8",
   "metadata": {},
   "source": [
    "#### 🔷 四、强化学习算法（Reinforcement Learning）\n",
    "✅ 特点：智能体与环境交互，通过“奖励”学习行为策略\n",
    "✅ 应用：游戏AI、自动驾驶、机器人控制、智能推荐"
   ]
  },
  {
   "cell_type": "markdown",
   "id": "c8e4733c-579a-44e4-b125-4c90fc93cf53",
   "metadata": {},
   "source": [
    "| 算法名称                              | 常见用途          |\n",
    "| --------------------------------- | ------------- |\n",
    "| Q-learning                        | 网格世界导航、简单游戏策略 |\n",
    "| Deep Q-Network（DQN）               | Atari 游戏、迷宫导航 |\n",
    "| Policy Gradient（PG）               | 连续控制问题        |\n",
    "| Proximal Policy Optimization（PPO） | 自动驾驶、机械臂控制    |\n"
   ]
  },
  {
   "cell_type": "markdown",
   "id": "9b3bfe8c-dabe-42c8-9a3b-9ba924deed3c",
   "metadata": {},
   "source": [
    "#### 🔷 五、深度学习算法（Deep Learning）\n",
    "✅ 特点：多层神经网络，适合处理高维、复杂数据\n",
    "✅ 应用：图像识别、自然语言处理、语音识别、生成式AI"
   ]
  },
  {
   "cell_type": "markdown",
   "id": "5b7c1582-51b4-4d4d-9db3-f51503a3363e",
   "metadata": {},
   "source": [
    "| 算法/模型                | 常见用途                             |\n",
    "| -------------------- | -------------------------------- |\n",
    "| **多层感知机（MLP）**       | 表格数据建模、结构化数据分析                   |\n",
    "| **卷积神经网络（CNN）**      | 图像分类、目标检测、图像分割                   |\n",
    "| **循环神经网络（RNN）**      | 时间序列预测、语音识别、文本生成                 |\n",
    "| **LSTM / GRU**       | 长文本建模、机器翻译、序列标注                  |\n",
    "| **Transformer**      | 语言模型（如BERT、GPT）、代码生成、翻译          |\n",
    "| **GAN（生成对抗网络）**      | 图像生成、图像修复、人脸合成                   |\n",
    "| **VAE（变分自编码器）**      | 图像生成、数据压缩                        |\n",
    "| **Diffusion Models** | 高质量图像/音频/视频生成（如Stable Diffusion） |\n"
   ]
  },
  {
   "cell_type": "markdown",
   "id": "61f9d508-ac4f-4bcd-b495-67e2aac2b752",
   "metadata": {},
   "source": [
    "#### 🔷 六、推荐系统常用算法"
   ]
  },
  {
   "cell_type": "markdown",
   "id": "ae7aab98-9ed5-4d0e-9e20-42cd56f7968b",
   "metadata": {},
   "source": [
    "| 算法类型            | 应用场景                   |\n",
    "| --------------- | ---------------------- |\n",
    "| 协同过滤（CF）        | 用户/物品推荐，Netflix、淘宝、抖音等 |\n",
    "| 矩阵分解（SVD、ALS）   | 隐式评分建模，商品评分预测          |\n",
    "| Embedding + DNN | 大规模推荐、广告点击率预测（CTR 模型）  |\n",
    "| 图神经网络（GNN）      | 社交网络推荐、知识图谱补全          |\n"
   ]
  },
  {
   "cell_type": "markdown",
   "id": "53fb74f5-0aa3-4872-817e-86639451a221",
   "metadata": {},
   "source": [
    "#### 🔷 七、自然语言处理（NLP）相关算法"
   ]
  },
  {
   "cell_type": "markdown",
   "id": "4995683a-0bad-4444-be6c-571bebaead0b",
   "metadata": {},
   "source": [
    "| 算法/模型            | 应用               |\n",
    "| ---------------- | ---------------- |\n",
    "| TF-IDF           | 文本向量化、关键词提取      |\n",
    "| Word2Vec / GloVe | 词向量生成、语义理解       |\n",
    "| RNN / LSTM       | 情感分析、机器翻译、摘要     |\n",
    "| Transformer      | 机器翻译、文本生成、摘要提取   |\n",
    "| BERT             | 文本分类、问答系统、命名实体识别 |\n",
    "| GPT系列（GPT-2/3/4） | 大语言模型、对话系统、代码生成  |\n"
   ]
  },
  {
   "cell_type": "markdown",
   "id": "4ea9281e-0bc4-4b01-a917-4e6f3e2e4dbe",
   "metadata": {},
   "source": [
    "### ✅ 总结：用途与算法速查表"
   ]
  },
  {
   "cell_type": "markdown",
   "id": "9fb9174b-e90b-4d10-8c0f-56ca7f630f26",
   "metadata": {},
   "source": [
    "| 用途        | 推荐算法                    |\n",
    "| --------- | ----------------------- |\n",
    "| 回归预测      | 线性回归、随机森林、XGBoost       |\n",
    "| 二/多分类     | 逻辑回归、SVM、神经网络           |\n",
    "| 图像识别      | CNN、ResNet、EfficientNet |\n",
    "| 文本分类      | BERT、RNN、Transformer    |\n",
    "| 推荐系统      | CF、矩阵分解、DeepFM          |\n",
    "| 聚类分析      | K-Means、DBSCAN、层次聚类     |\n",
    "| 降维与可视化    | PCA、t-SNE、AutoEncoder   |\n",
    "| 序列建模      | RNN、LSTM、Transformer    |\n",
    "| 强化学习      | Q-Learning、DQN、PPO      |\n",
    "| 生成内容（图/文） | GAN、VAE、Diffusion、GPT   |\n"
   ]
  },
  {
   "cell_type": "markdown",
   "id": "504d4645-a744-4672-abb2-2efbfa6c0542",
   "metadata": {},
   "source": [
    "# 2、策略-->怎么判断模型的好坏？"
   ]
  },
  {
   "cell_type": "raw",
   "id": "f2422ac2-713e-45a5-9abb-2a9692fa613c",
   "metadata": {},
   "source": [
    "用什么 损失函数 或 评估指标  来判断模型的好坏。\n",
    "\n",
    "损失函数：用于模型训练过程，衡量模型预测值和真实值之间的“差距”，指导梯度下降优化模型参数。损失函数越小越好\n",
    "\n",
    "评估指标：用于模型评估阶段，衡量模型在测试集上的实际表现，是衡量模型“好坏”的标准。"
   ]
  },
  {
   "cell_type": "markdown",
   "id": "1fa3e861-46aa-4eab-a448-f70ec7897a06",
   "metadata": {},
   "source": [
    "### 2.1、不同任务 损失函数 与 评估指标的选择"
   ]
  },
  {
   "cell_type": "markdown",
   "id": "81a2acf3-3aa9-4da6-8917-bc5d01792cb8",
   "metadata": {},
   "source": [
    "### 🔷 一、分类任务（Classification）\n",
    "1️⃣ 常用损失函数"
   ]
  },
  {
   "cell_type": "markdown",
   "id": "5958462c-1d99-4411-bd09-2203f61dd26c",
   "metadata": {},
   "source": [
    "| 损失函数                             | 说明                     | 使用模型               |\n",
    "| -------------------------------- | ---------------------- | ------------------ |\n",
    "| Binary Cross-Entropy（对数损失）       | 用于二分类                  | 逻辑回归、神经网络（Sigmoid） |\n",
    "| Categorical Cross-Entropy        | 多分类，标签独热编码（one-hot）    | 多分类神经网络（Softmax）   |\n",
    "| Sparse Categorical Cross-Entropy | 多分类，标签为整数编号（非 one-hot） | CNN/RNN 分类任务       |\n",
    "| Focal Loss                       | 解决样本不均衡，对困难样本权重更大      | 医疗、目标检测等样本极不均衡场景   |\n"
   ]
  },
  {
   "cell_type": "raw",
   "id": "0bbe0d31-2304-43d7-8ee4-715f9c0be013",
   "metadata": {},
   "source": [
    "2️⃣ 常用评估指标"
   ]
  },
  {
   "cell_type": "markdown",
   "id": "cef0860d-bfaa-41a6-8c91-4a4f0b03cc5c",
   "metadata": {},
   "source": [
    "| 指标名            | 说明               | 适用场景      |\n",
    "| -------------- | ---------------- | --------- |\n",
    "| Accuracy（准确率）  | 预测正确的比例          | 类别均衡      |\n",
    "| Precision（精确率） | 真阳性 / 预测为正的样本数   | 重视“假阳性”控制 |\n",
    "| Recall（召回率）    | 真阳性 / 实际正样本数     | 重视“假阴性”控制 |\n",
    "| F1 Score       | 精确率与召回率的调和平均数    | 样本不均衡时常用  |\n",
    "| AUC-ROC        | 衡量模型区分正负样本能力     | 二分类模型评估   |\n",
    "| Log Loss(交叉熵)       | 概率预测的损失（和损失函数相同） | 分类 + 概率输出 |\n",
    "\n",
    "\n",
    "                                📌 示例：\n",
    "                                \n",
    "                                垃圾邮件识别 → 更关注 Recall（漏掉垃圾邮件代价高）\n",
    "                                \n",
    "                                金融欺诈检测 → 更关注 Precision（误伤正常用户代价高）"
   ]
  },
  {
   "cell_type": "markdown",
   "id": "8114c7d6-fdaa-4e7f-be36-94eb62cdcb22",
   "metadata": {},
   "source": [
    "### 🔷 二、回归任务（Regression）\n",
    "1️⃣ 常用损失函数"
   ]
  },
  {
   "cell_type": "markdown",
   "id": "7dfbb7de-8e2d-490b-b8d0-d3a284068798",
   "metadata": {},
   "source": [
    "| 损失函数          | 说明                | 特点         |\n",
    "| ------------- | ----------------- | ---------- |\n",
    "| MSE（均方误差）     | 对偏差平方后求平均（对离群值敏感） | 平滑、常用      |\n",
    "| MAE（平均绝对误差）   | 对偏差绝对值求平均（对离群值鲁棒） | 更抗异常值      |\n",
    "| Huber Loss    | 综合 MSE 和 MAE 的优点  | 可调节的鲁棒损失函数 |\n",
    "| Log-Cosh Loss | 类似 MSE 但对异常值更稳定   | 平滑近似 MAE   |\n"
   ]
  },
  {
   "cell_type": "raw",
   "id": "0b2d6374-1659-45cb-a398-91819c4a433a",
   "metadata": {},
   "source": [
    "2️⃣ 常用评估指标"
   ]
  },
  {
   "cell_type": "markdown",
   "id": "df4ae7e4-0bc9-4252-a0e9-8c4b11e7bacb",
   "metadata": {},
   "source": [
    "| 指标名           | 说明                    |\n",
    "| ------------- | --------------------- |\n",
    "| MSE（均方误差）     | 衡量预测值与实际值的平方差（越小越好）   |\n",
    "| RMSE（均方根误差）   | MSE 开平方后（更接近原始误差单位）   |\n",
    "| MAE（平均绝对误差）   | 误差绝对值平均               |\n",
    "| R²（决定系数）      | 衡量模型对数据变异的解释能力（0\\~1）  |\n",
    "| MAPE（平均百分比误差） | 用百分比表达误差，适用于价格、销售额预测等 |\n",
    "\n",
    "\n",
    "                                📌 一般来说：\n",
    "                                \n",
    "                                MSE / RMSE 更适用于希望惩罚大误差的场景\n",
    "                                \n",
    "                                MAE 更适用于对离群值不敏感的业务，如收入预测"
   ]
  },
  {
   "cell_type": "markdown",
   "id": "29a51ab7-c9b5-403a-b6ee-c25894660055",
   "metadata": {},
   "source": [
    "### 🔷 三、其他任务的常用损失 & 指标\n"
   ]
  },
  {
   "cell_type": "raw",
   "id": "ec037ff9-eb4f-4300-bde3-1d37fda77e31",
   "metadata": {},
   "source": [
    "✅ 排序任务（如推荐系统）\n",
    "\n",
    "损失函数：Pairwise loss（如 RankNet）、Listwise loss（如 LambdaRank）\n",
    "评估指标：NDCG、MAP、Hit@K、Recall@K、MRR\n",
    "\n",
    "✅ 聚类任务\n",
    "\n",
    "损失函数：无传统意义上的损失（K-Means 使用距离平方差）\n",
    "评估指标：轮廓系数（Silhouette Score）、Calinski-Harabasz 指数、Davies–Bouldin 指数\n",
    "\n",
    "✅ 生成模型（如 GAN、VAE、Transformer）\n",
    "\n",
    "损失函数：\n",
    "GAN：对抗损失（Binary Cross-Entropy）\n",
    "VAE：重构损失 + KL 散度\n",
    "Transformer：Cross-Entropy + Masking\n",
    "\n",
    "评估指标：\n",
    "BLEU、ROUGE（文本）、\n",
    "FID（图像）、\n",
    "Perplexity（语言模型）"
   ]
  },
  {
   "cell_type": "markdown",
   "id": "36cf012d-7ac6-403b-8212-622d784b518b",
   "metadata": {},
   "source": [
    "### 🔶 损失函数 vs 评估指标的选择策略"
   ]
  },
  {
   "cell_type": "markdown",
   "id": "6d178fcd-eac7-4224-b821-d8fb53523ba1",
   "metadata": {},
   "source": [
    "| 项目      | 建议                                             |\n",
    "| ------- | ---------------------------------------------- |\n",
    "| 模型训练    | 损失函数需要**可导、连续**，能用于**反向传播**                    |\n",
    "| 模型评估    | 评估指标需要**可解释、贴近业务需求**                           |\n",
    "| 分类任务    | 损失函数选交叉熵，评估指标结合准确率、F1、AUC 等                    |\n",
    "| 回归任务    | 损失函数选 MSE / MAE，评估指标选 RMSE / R² / MAPE         |\n",
    "| 样本不平衡场景 | 损失函数用 Focal Loss，评估指标用 Precision / Recall / F1 |\n",
    "| 多目标优化   | 可将多个指标合成一个多目标损失（如加权组合）                         |\n"
   ]
  },
  {
   "cell_type": "markdown",
   "id": "546e4826-9a60-4c88-a9f3-29e8199ebda5",
   "metadata": {},
   "source": []
  },
  {
   "cell_type": "markdown",
   "id": "42477803-d30f-4236-bdc9-76e8f439b6d6",
   "metadata": {},
   "source": [
    "# 3、算法--> 怎么找到最优的模型？"
   ]
  },
  {
   "cell_type": "raw",
   "id": "646d1f44-be05-431c-bb64-c656e43691aa",
   "metadata": {},
   "source": [
    "算法就是如何最小化损失函数，就是训练过程。\n",
    "策略给你一个 ‘目标函数’ 算法就是去优化它"
   ]
  },
  {
   "cell_type": "markdown",
   "id": "d33de51f-7385-4ce1-a491-b0ce7f045f5a",
   "metadata": {},
   "source": [
    "## ✅ 常见模型 vs 训练算法 vs 损失函数 vs 学习类型"
   ]
  },
  {
   "cell_type": "markdown",
   "id": "21db2973-9223-4a05-8d71-864a7a71705e",
   "metadata": {},
   "source": [
    "| 模型 / 方法         | 训练算法或优化方法                    | 常用损失函数                    | 学习类型        |\n",
    "| --------------- | ---------------------------- | ------------------------- | ----------- |\n",
    "| **线性回归**        | 最小二乘法 / 梯度下降                 | 均方误差（MSE）                 | 监督学习（回归）    |\n",
    "| **逻辑回归**        | 梯度下降 / SGD                   | 交叉熵（Binary Cross Entropy） | 监督学习（分类）    |\n",
    "| **支持向量机（SVM）**  | SMO / 二次规划                   | Hinge Loss（合页损失）          | 监督学习（分类）    |\n",
    "| **决策树**         | 贪心分裂算法（信息增益/基尼系数）            | 无损失函数（基于纯度指标）             | 监督学习（分类/回归） |\n",
    "| **随机森林**        | 多棵树 + Bagging                | 同决策树（信息增益/Gini）           | 监督学习（分类/回归） |\n",
    "| **梯度提升树（GBDT）** | Boosting + 梯度优化              | 可自定义（MSE / 交叉熵等）          | 监督学习（分类/回归） |\n",
    "| **K近邻（KNN）**    | 无需训练（懒惰学习）                   | 不使用损失函数                   | 监督学习（分类/回归） |\n",
    "| **朴素贝叶斯**       | 概率估计 / 最大似然估计                | 对数似然（log-loss）            | 监督学习（分类）    |\n",
    "| **K-Means 聚类**  | 迭代优化（重心更新）                   | 类内平方误差（WCSS）              | 无监督学习（聚类）   |\n",
    "| **高斯混合模型（GMM）** | EM（期望最大化）                    | 对数似然函数                    | 无监督学习（聚类）   |\n",
    "| **主成分分析（PCA）**  | 奇异值分解 / 特征值分解                | 重建误差 / 方差最大化              | 无监督学习（降维）   |\n",
    "| **神经网络（MLP）**   | 反向传播 + SGD / Adam / RMSprop  | 交叉熵 / MSE                 | 监督学习（分类/回归） |\n",
    "| **卷积神经网络（CNN）** | 同上 + 卷积优化结构                  | 交叉熵 / MSE                 | 监督学习（图像类）   |\n",
    "| **循环神经网络（RNN）** | BPTT（时间反向传播）+ Adam           | 交叉熵 / MSE                 | 监督学习（序列类）   |\n",
    "| **自编码器（AE）**    | SGD / Adam                   | 重建误差（MSE）                 | 无监督学习（特征学习） |\n",
    "| **强化学习（DQN）**   | Q-learning / Policy Gradient | 强化信号（回报）                  | 强化学习        |\n",
    "\n",
    "\n",
    "📌 说明：\n",
    "\n",
    "训练算法 指的是模型内部参数如何被更新，如使用梯度下降还是其他优化方式。\n",
    "\n",
    "损失函数 用于衡量模型预测值与真实值的差距，指导参数更新。\n",
    "\n",
    "学习类型 按是否有标签、目标和学习方式分类为：\n",
    "\n",
    "监督学习：有标签数据（分类/回归）\n",
    "\n",
    "无监督学习：无标签数据（聚类/降维等）\n",
    "\n",
    "强化学习：基于奖励和状态进行决策\n"
   ]
  },
  {
   "cell_type": "code",
   "execution_count": null,
   "id": "08f8fdf8-4f6b-426f-820e-dc07b19b0eff",
   "metadata": {},
   "outputs": [],
   "source": []
  },
  {
   "cell_type": "code",
   "execution_count": null,
   "id": "68fd2e6f-e083-4770-b5c9-49d437e821f3",
   "metadata": {},
   "outputs": [],
   "source": []
  },
  {
   "cell_type": "code",
   "execution_count": null,
   "id": "be60822c-b4fe-4eff-bffc-3d08128cd791",
   "metadata": {},
   "outputs": [],
   "source": []
  },
  {
   "cell_type": "code",
   "execution_count": null,
   "id": "7efdaa52-4349-452d-84fd-800cd5cc6465",
   "metadata": {},
   "outputs": [],
   "source": []
  },
  {
   "cell_type": "code",
   "execution_count": null,
   "id": "d5983019-4cd8-4af8-8f81-946a066d634e",
   "metadata": {},
   "outputs": [],
   "source": []
  },
  {
   "cell_type": "code",
   "execution_count": null,
   "id": "49ab2bf9-c743-4bd3-94bc-b0aa3dffa3a2",
   "metadata": {},
   "outputs": [],
   "source": []
  },
  {
   "cell_type": "code",
   "execution_count": null,
   "id": "9133e545-0a8a-49d6-9439-00f7fc58e138",
   "metadata": {},
   "outputs": [],
   "source": []
  },
  {
   "cell_type": "code",
   "execution_count": null,
   "id": "f87eb1e2-58df-4fef-bd63-f4517b646896",
   "metadata": {},
   "outputs": [],
   "source": []
  }
 ],
 "metadata": {
  "kernelspec": {
   "display_name": "Python [conda env:deepseek_env]",
   "language": "python",
   "name": "conda-env-deepseek_env-py"
  },
  "language_info": {
   "codemirror_mode": {
    "name": "ipython",
    "version": 3
   },
   "file_extension": ".py",
   "mimetype": "text/x-python",
   "name": "python",
   "nbconvert_exporter": "python",
   "pygments_lexer": "ipython3",
   "version": "3.12.9"
  }
 },
 "nbformat": 4,
 "nbformat_minor": 5
}
