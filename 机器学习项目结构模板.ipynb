{
 "cells": [
  {
   "cell_type": "markdown",
   "id": "a3efb486-9231-41fa-862e-caf604ad01f3",
   "metadata": {},
   "source": [
    "### 以下是一个通用的机器学习项目结构模板，覆盖从数据加载 → 预处理 → 模型训练 → 调参 → 评估 → 保存的完整流程，适用于大多数二分类/多分类/回归任务。"
   ]
  },
  {
   "cell_type": "markdown",
   "id": "3b3b5fed-c13c-42b3-afa8-f70c90c61a57",
   "metadata": {},
   "source": [
    "## 🗂️ 项目目录结构（推荐）"
   ]
  },
  {
   "cell_type": "raw",
   "id": "0650425c-77df-4b1c-bfad-26fd1487177c",
   "metadata": {},
   "source": [
    "ml_project/\n",
    "├── data/                  # 数据集（原始/清洗后的）\n",
    "│   ├── raw.csv            # 原始数据\n",
    "│   └── clean.csv          # 清洗好的数据\n",
    "├── notebooks/             # 数据探索与分析\n",
    "│   └── eda.ipynb\n",
    "├── src/                   # 源码：预处理、模型、评估等\n",
    "│   ├── preprocess.py      # 预处理是指在数据进入模型训练之前，对其进行清洗、转换或标准化的过程。\n",
    "│   ├── model.py           # 模型定义\n",
    "│   ├── train.py           # 主训练脚本\n",
    "│   └── evaluate.py        # 模型评估\n",
    "├── outputs/               # 输出的模型、日志、图表\n",
    "│   ├── model.pkl          # 保存了训练好的机器学习模型(参数，模型架构，预处理参数，其他配置) \n",
    "│   └── metrics.txt        # 存储模型评估指标\n",
    "├── main.py                # 项目主脚本：可直接运行\n",
    "├── requirements.txt       # 所需依赖包\n",
    "└── README.md              # 项目说明\n"
   ]
  },
  {
   "cell_type": "markdown",
   "id": "0edfd2ff-e557-4449-87c5-c08a52f0e0fc",
   "metadata": {},
   "source": [
    "## ✅ 一、安装依赖（requirements.txt 示例）"
   ]
  },
  {
   "cell_type": "raw",
   "id": "d2e3b9bd-ca47-47ea-8b3d-10e25abfb6ae",
   "metadata": {},
   "source": [
    "txt：\n",
    "\n",
    "numpy\n",
    "pandas\n",
    "scikit-learn\n",
    "matplotlib\n",
    "seaborn\n",
    "joblib"
   ]
  },
  {
   "cell_type": "markdown",
   "id": "52300d7c-cdcf-43fc-b1d5-834a9848c60c",
   "metadata": {},
   "source": [
    " ## ✅二、main.py（项目主入口）"
   ]
  },
  {
   "cell_type": "code",
   "execution_count": null,
   "id": "a86e6b96-d8c6-42e3-9fc0-7d402dee962e",
   "metadata": {},
   "outputs": [],
   "source": [
    "from src.preprocess import load_and_preprocess_data\n",
    "from src.model import build_model\n",
    "from src.train import train_model\n",
    "from src.evaluate import evaluate_model\n",
    "\n",
    "def main():\n",
    "    # 1. 数据处理\n",
    "    X_train, X_test, y_train, y_test = load_and_preprocess_data(\"data/raw.csv\")\n",
    "\n",
    "    # 2. 模型构建（管道封装）\n",
    "    model = build_model()\n",
    "\n",
    "    # 3. 训练\n",
    "    model = train_model(model, X_train, y_train)\n",
    "\n",
    "    # 4. 评估\n",
    "    evaluate_model(model, X_test, y_test)\n",
    "\n",
    "    # 5. 保存模型\n",
    "    from joblib import dump\n",
    "    dump(model, \"outputs/model.pkl\")\n",
    "    print(\"模型保存成功！\")\n",
    "\n",
    "if __name__ == \"__main__\":\n",
    "    main()\n"
   ]
  },
  {
   "cell_type": "markdown",
   "id": "09a92d7c-71db-4912-9ed6-198de87182e2",
   "metadata": {},
   "source": [
    "## 🧹 三、数据预处理（src/preprocess.py）"
   ]
  },
  {
   "cell_type": "code",
   "execution_count": null,
   "id": "432c7dbd-abfc-40e1-9b38-908912a239d0",
   "metadata": {},
   "outputs": [],
   "source": [
    "import pandas as pd\n",
    "from sklearn.model_selection import train_test_split\n",
    "from sklearn.preprocessing import StandardScaler\n",
    "\n",
    "def load_and_preprocess_data(filepath):\n",
    "    df = pd.read_csv(filepath)\n",
    "\n",
    "    # 特征/标签拆分（以二分类为例）\n",
    "    X = df.drop(\"target\", axis=1)\n",
    "    y = df[\"target\"]\n",
    "\n",
    "    # 数值标准化（可替换为 ColumnTransformer）\n",
    "    scaler = StandardScaler()\n",
    "    X_scaled = scaler.fit_transform(X)\n",
    "\n",
    "    # 划分训练集/测试集\n",
    "    return train_test_split(X_scaled, y, test_size=0.2, random_state=42)\n"
   ]
  },
  {
   "cell_type": "markdown",
   "id": "81998c92-2097-4f08-ad60-45a48e7f59fc",
   "metadata": {},
   "source": [
    "## 🧠 四、模型构建（src/model.py）"
   ]
  },
  {
   "cell_type": "code",
   "execution_count": null,
   "id": "82e94757-c229-4656-9991-9d7ed2e5ecc9",
   "metadata": {},
   "outputs": [],
   "source": [
    "from sklearn.ensemble import RandomForestClassifier\n",
    "from sklearn.pipeline import Pipeline\n",
    "\n",
    "def build_model():\n",
    "    # 可拓展为带参数网格搜索的 GridSearchCV\n",
    "    model = RandomForestClassifier(n_estimators=100, random_state=42)\n",
    "    return model\n"
   ]
  },
  {
   "cell_type": "markdown",
   "id": "1d31d22d-c696-4822-b397-2b1f8df11633",
   "metadata": {},
   "source": [
    "## 🏋️‍♂️ 五、模型训练（src/train.py）"
   ]
  },
  {
   "cell_type": "code",
   "execution_count": null,
   "id": "6fcd5f9f-490b-40ad-afe2-54ca3c25411d",
   "metadata": {},
   "outputs": [],
   "source": [
    "def train_model(model, X_train, y_train):\n",
    "    model.fit(X_train, y_train)\n",
    "    return model"
   ]
  },
  {
   "cell_type": "markdown",
   "id": "2f5228c9-8354-4e29-a8f9-b25165fcd3ba",
   "metadata": {},
   "source": [
    "## 📊 六、模型评估（src/evaluate.py）"
   ]
  },
  {
   "cell_type": "code",
   "execution_count": null,
   "id": "17742e03-446b-4d72-831f-c9c7e1e2a777",
   "metadata": {},
   "outputs": [],
   "source": [
    "from sklearn.metrics import classification_report, confusion_matrix\n",
    "import joblib\n",
    "\n",
    "def evaluate_model(model, X_test, y_test):\n",
    "    y_pred = model.predict(X_test)\n",
    "\n",
    "    print(\"分类报告：\")\n",
    "    print(classification_report(y_test, y_pred))\n",
    "\n",
    "    # 额外保存评估指标\n",
    "    with open(\"outputs/metrics.txt\", \"w\") as f:\n",
    "        f.write(classification_report(y_test, y_pred))\n"
   ]
  },
  {
   "cell_type": "markdown",
   "id": "69b72b90-d1fa-4bc8-8818-f1f43edec1f6",
   "metadata": {},
   "source": [
    "## 💡 可选增强功能"
   ]
  },
  {
   "cell_type": "markdown",
   "id": "5f28fc18-0a27-44ba-886a-62022f9afbd9",
   "metadata": {},
   "source": [
    "| 功能    | 模块                  | 说明            |\n",
    "| ----- | ------------------- | ------------- |\n",
    "| 特征管道  | `ColumnTransformer` | 支持数值+分类特征同时处理 |\n",
    "| 模型调参  | `GridSearchCV`      | 网格搜索          |\n",
    "| 模型解释  | `shap`, `lime`      | 特征重要性可视化      |\n",
    "| 不平衡处理 | `imblearn.SMOTE`    | 样本扩充          |\n",
    "| 模型部署  | `Flask`, `FastAPI`  | 接口部署          |\n"
   ]
  },
  {
   "cell_type": "code",
   "execution_count": null,
   "id": "a336d1d7-8862-42a8-83af-b15a7b3dda89",
   "metadata": {},
   "outputs": [],
   "source": []
  }
 ],
 "metadata": {
  "kernelspec": {
   "display_name": "Python [conda env:deepseek_env]",
   "language": "python",
   "name": "conda-env-deepseek_env-py"
  },
  "language_info": {
   "codemirror_mode": {
    "name": "ipython",
    "version": 3
   },
   "file_extension": ".py",
   "mimetype": "text/x-python",
   "name": "python",
   "nbconvert_exporter": "python",
   "pygments_lexer": "ipython3",
   "version": "3.12.9"
  }
 },
 "nbformat": 4,
 "nbformat_minor": 5
}
