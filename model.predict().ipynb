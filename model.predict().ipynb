{
 "cells": [
  {
   "cell_type": "markdown",
   "id": "2d3b04e5-698f-45ab-91dd-ff6dc7d6e054",
   "metadata": {},
   "source": [
    "## 1. model.predict() ： 概念\n",
    "model.predict() 用于对输入数据进行前向推理（inference），得到模型的输出结果（不进行梯度计算，也不更新权重）。\n",
    "它是训练好的模型用来预测的主要接口。\n",
    "\n",
    "## 2. 语法"
   ]
  },
  {
   "cell_type": "code",
   "execution_count": null,
   "id": "007c2115-490f-4a94-81c2-b7e8e208a3ca",
   "metadata": {},
   "outputs": [],
   "source": [
    "predictions = model.predict(\n",
    "    x,\n",
    "    batch_size=None,\n",
    "    verbose='auto',\n",
    "    steps=None,\n",
    "    callbacks=None,\n",
    "    max_queue_size=10,\n",
    "    workers=1,\n",
    "    use_multiprocessing=False\n",
    ")\n"
   ]
  },
  {
   "cell_type": "markdown",
   "id": "8a5ecfbe-29dc-4839-a512-98841bef9462",
   "metadata": {},
   "source": [
    "## 3. 参数讲解\n",
    "| 参数                        | 类型                                    | 默认值      | 说明                                                |\n",
    "| ------------------------- | ------------------------------------- | -------- | ------------------------------------------------- |\n",
    "| **`x`**                   | Numpy 数组、Tensor、`tf.data.Dataset`、生成器 | 必填       | 预测输入数据，形状应与模型的输入形状一致                              |\n",
    "| **`batch_size`**          | `int`                                 | `None`   | 每次送入网络的样本数量，`None` 表示自动选择                         |\n",
    "| **`verbose`**             | `'auto'` / `0` / `1`                  | `'auto'` | 日志显示模式：`0` 不显示，`1` 显示进度条，`'auto'` 根据环境自动选择        |\n",
    "| **`steps`**               | `int`                                 | `None`   | 如果输入是**可迭代对象**（如 Dataset 或生成器），需要指定要预测多少步；否则会自动计算 |\n",
    "| **`callbacks`**           | list                                  | `None`   | 预测过程中要执行的回调函数列表（很少用）                              |\n",
    "| **`max_queue_size`**      | `int`                                 | `10`     | 生成器队列的最大容量（多线程/多进程时有用）                            |\n",
    "| **`workers`**             | `int`                                 | `1`      | 使用的线程/进程数量                                        |\n",
    "| **`use_multiprocessing`** | `bool`                                | `False`  | 是否开启多进程预测（配合 `workers` 使用）                        |\n",
    "\n",
    "### 如果需要对非常大的数据集预测，可以用 batch_size 或 steps 控制分批预测，避免显存爆掉。\n",
    "\n",
    "## 4. 返回值\n",
    "返回一个 Numpy 数组（或数组列表），是模型的输出值。\n",
    "\n",
    "数组的形状取决于模型的输出层形状。\n",
    "\n",
    "二分类 Sigmoid 输出 → (num_samples, 1)\n",
    "\n",
    "多分类 Softmax 输出 → (num_samples, num_classes)\n",
    "\n",
    "回归 → (num_samples, output_dim)\n"
   ]
  },
  {
   "cell_type": "code",
   "execution_count": null,
   "id": "ceccf75f-c26d-4111-aa26-7e064a894f0b",
   "metadata": {},
   "outputs": [],
   "source": []
  },
  {
   "cell_type": "code",
   "execution_count": null,
   "id": "ec79167c-0dbc-4d2b-965c-46b8c6367e87",
   "metadata": {},
   "outputs": [],
   "source": []
  },
  {
   "cell_type": "code",
   "execution_count": null,
   "id": "19ecef2c-034a-4fb3-bb65-48e3d75b6af3",
   "metadata": {},
   "outputs": [],
   "source": []
  },
  {
   "cell_type": "code",
   "execution_count": null,
   "id": "bea7a572-4ce7-4fa9-b61a-87f827001b68",
   "metadata": {},
   "outputs": [],
   "source": []
  },
  {
   "cell_type": "code",
   "execution_count": null,
   "id": "a78cf392-fa21-4f3b-94c1-d03e6ddcb4a6",
   "metadata": {},
   "outputs": [],
   "source": []
  },
  {
   "cell_type": "code",
   "execution_count": null,
   "id": "c115c26a-e974-4f59-8e76-b1e9d2c16e9a",
   "metadata": {},
   "outputs": [],
   "source": []
  }
 ],
 "metadata": {
  "kernelspec": {
   "display_name": "Python (deepseek_env)",
   "language": "python",
   "name": "deepseek_env"
  },
  "language_info": {
   "codemirror_mode": {
    "name": "ipython",
    "version": 3
   },
   "file_extension": ".py",
   "mimetype": "text/x-python",
   "name": "python",
   "nbconvert_exporter": "python",
   "pygments_lexer": "ipython3",
   "version": "3.12.9"
  }
 },
 "nbformat": 4,
 "nbformat_minor": 5
}
