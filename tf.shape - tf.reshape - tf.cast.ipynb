{
 "cells": [
  {
   "cell_type": "markdown",
   "id": "aaa95eaa-86a0-4d67-a9b5-fbb3622a49ea",
   "metadata": {},
   "source": [
    "# tf.shape、tf.reshape、tf.cast \n",
    "它们在处理张量形状、重构结构和类型转换时非常常用。\n",
    "\n",
    "## 🔹 一、tf.shape() —— 获取张量的形状\n",
    "✅ 功能：返回张量的 动态形状（即运行时 shape）"
   ]
  },
  {
   "cell_type": "code",
   "execution_count": null,
   "id": "20044f02-3af7-42a2-9684-d92bebb98baf",
   "metadata": {},
   "outputs": [],
   "source": [
    "import tensorflow as tf\n",
    "\n",
    "x = tf.constant([[1, 2, 3], [4, 5, 6]])\n",
    "shape = tf.shape(x)\n",
    "print(shape)  # 输出: [2 3] --> 2行 3列\n"
   ]
  },
  {
   "cell_type": "markdown",
   "id": "1fa07cd9-a155-4d48-ad72-524abed71125",
   "metadata": {},
   "source": [
    "### 📌 特点：\n",
    "| 特性         | 说明           |\n",
    "| ---------- | ------------ |\n",
    "| 返回的是张量     | 而非 Python 元组 |\n",
    "| 支持动态 shape | 可用于计算图中作为输入  |\n",
    "✅ 和 x.shape 不同，后者返回静态 shape（Python 对象）\n",
    "\n",
    "## 🔹 二、tf.reshape() —— 改变张量的形状（不改变数据）\n",
    "✅ 功能：重新排列张量结构，只要总元素个数不变"
   ]
  },
  {
   "cell_type": "code",
   "execution_count": null,
   "id": "2951056e-8bfb-49fc-bf81-a33ab6fed8e1",
   "metadata": {},
   "outputs": [],
   "source": [
    "x = tf.constant([[1, 2, 3], [4, 5, 6]])\n",
    "reshaped = tf.reshape(x, [3, 2])  --> 2行3列 -->3行2列 \n",
    "print(reshaped)\n",
    "# 输出:\n",
    "# [[1 2]\n",
    "#  [3 4]\n",
    "#  [5 6]]"
   ]
  },
  {
   "cell_type": "markdown",
   "id": "ef03fd36-103b-4a5a-8685-cc9772bbd2fe",
   "metadata": {},
   "source": [
    "### 📌 特点：\n",
    "| 特性       | 说明               |\n",
    "| -------- | ---------------- |\n",
    "| 数据不会改变   | 只是“换个形状”         |\n",
    "| 支持自动推导维度 | 用 `-1` 自动计算该维度大小 |\n",
    "\n",
    "### 💡 示例：自动推导维度"
   ]
  },
  {
   "cell_type": "code",
   "execution_count": null,
   "id": "d1088cb0-9623-4411-adce-eaf312a26ff9",
   "metadata": {},
   "outputs": [],
   "source": [
    "x = tf.constant([1, 2, 3, 4, 5, 6])\n",
    "x_reshaped = tf.reshape(x, [-1, 2])\n",
    "\n",
    "print(x_reshaped)  # [[1, 2], [3, 4], [5, 6]]\n",
    "\n",
    "❗ reshape 失败会报错，比如维度不一致"
   ]
  },
  {
   "cell_type": "markdown",
   "id": "2d72f098-23d5-47f5-94e4-f13a60dde600",
   "metadata": {},
   "source": [
    "## 🔹 三、tf.cast() —— 改变张量的数据类型\n",
    "✅ 功能：将张量从一种 dtype 转换为另一种"
   ]
  },
  {
   "cell_type": "code",
   "execution_count": null,
   "id": "a292f734-6107-407b-aad9-459bdf34e714",
   "metadata": {},
   "outputs": [],
   "source": [
    "x = tf.constant([1.8, 2.3, 3.9])\n",
    "x_int = tf.cast(x, tf.int32)\n",
    "print(x_int)  # 输出: [1 2 3]（直接截断）"
   ]
  },
  {
   "cell_type": "markdown",
   "id": "4fde0d17-44f3-49cc-8d29-9b4db92aa972",
   "metadata": {},
   "source": [
    "### 📌 常见类型：\n",
    "tf.float32, tf.float64 \\\n",
    "tf.int32, tf.int64\\\n",
    "tf.bool\n",
    "\n",
    "### 💡 示例：将整数转为布尔类型"
   ]
  },
  {
   "cell_type": "code",
   "execution_count": null,
   "id": "4492a20b-225e-4a55-9c6b-ae88275abcca",
   "metadata": {},
   "outputs": [],
   "source": [
    "x = tf.constant([0, 1, 2])\n",
    "x_bool = tf.cast(x, tf.bool)\n",
    "print(x_bool)  # [False True True]"
   ]
  },
  {
   "cell_type": "markdown",
   "id": "70c9a2de-bc02-4e73-9ec0-4c8cc718d99a",
   "metadata": {},
   "source": [
    "### ✅ 三者对比总结表：\n",
    "| 函数             | 功能        | 输入            | 输出     | 常用场景         |\n",
    "| -------------- | --------- | ------------- | ------ | ------------ |\n",
    "| `tf.shape()`   | 获取张量运行时形状 | 张量            | 张量（整数） | 动态 shape 处理  |\n",
    "| `tf.reshape()` | 重新定义形状    | 张量 + 新 shape  | 新张量    | 数据预处理、调整输入维度 |\n",
    "| `tf.cast()`    | 类型转换      | 张量 + 目标 dtype | 新张量    | 标签转换、归一化后还原等 |\n",
    "\n",
    "### 🎯 实战例子\n",
    "一个典型的例子，把图像（像素）输入数据归一化并转换为模型所需 shape："
   ]
  },
  {
   "cell_type": "code",
   "execution_count": null,
   "id": "74242072-385e-4c49-9378-eb7a241123a3",
   "metadata": {},
   "outputs": [],
   "source": [
    "def preprocess_image(image):\n",
    "    image = tf.cast(image, tf.float32)        # 转成 float32\n",
    "    image = tf.reshape(image, [28, 28, 1])     # 变为 [高, 宽, 通道]\n",
    "    image = image / 255.0                      # 归一化\n",
    "    return image\n"
   ]
  },
  {
   "cell_type": "code",
   "execution_count": null,
   "id": "1d58b4b7-832a-4f46-aff5-720d957ccc18",
   "metadata": {},
   "outputs": [],
   "source": []
  },
  {
   "cell_type": "code",
   "execution_count": null,
   "id": "4f363cb2-89f4-4400-b2a4-e87089931101",
   "metadata": {},
   "outputs": [],
   "source": []
  }
 ],
 "metadata": {
  "kernelspec": {
   "display_name": "Python (deepseek_env)",
   "language": "python",
   "name": "deepseek_env"
  },
  "language_info": {
   "codemirror_mode": {
    "name": "ipython",
    "version": 3
   },
   "file_extension": ".py",
   "mimetype": "text/x-python",
   "name": "python",
   "nbconvert_exporter": "python",
   "pygments_lexer": "ipython3",
   "version": "3.12.9"
  }
 },
 "nbformat": 4,
 "nbformat_minor": 5
}
