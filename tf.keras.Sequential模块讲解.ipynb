{
 "cells": [
  {
   "cell_type": "markdown",
   "id": "c634ef37-a6b0-43b4-acaf-99f0755c77a8",
   "metadata": {},
   "source": [
    "## 1. tf.keras.Sequential 简介\n",
    "Sequential 是 Keras 中用于快速搭建层叠式（线性堆叠）神经网络模型的容器。它允许你按顺序一层层地添加网络层，适合简单的前馈神经网络结构。\n",
    "\n",
    "## 2. Sequential 的初始化参数及用法示例"
   ]
  },
  {
   "cell_type": "code",
   "execution_count": null,
   "id": "f508ab61-0760-49d9-8db8-a1789d5eca2e",
   "metadata": {},
   "outputs": [],
   "source": [
    "import tensorflow as tf\n",
    "from tensorflow.keras import layers\n",
    "\n",
    "# 方法1：传入层列表（list）\n",
    "model1 = tf.keras.Sequential([\n",
    "    layers.Dense(64, activation='relu', input_shape=(100,)),\n",
    "    layers.Dense(10, activation='softmax')\n",
    "])\n",
    "\n",
    "# 方法2：空模型，后续用 add() 添加层\n",
    "model2 = tf.keras.Sequential()\n",
    "model2.add(layers.Dense(64, activation='relu', input_shape=(100,)))\n",
    "model2.add(layers.Dense(10, activation='softmax'))\n",
    "\n",
    "# 方法3：传入命名参数构建空模型\n",
    "model3 = tf.keras.Sequential(name='my_sequential_model')\n"
   ]
  },
  {
   "cell_type": "markdown",
   "id": "12c27702-8628-4ea7-b86d-be399143dd1b",
   "metadata": {},
   "source": [
    "## 3. 构造函数参数详细表\n",
    "| 参数名      | 类型               | 默认值    | 说明                                                    |\n",
    "| -------- | ---------------- | ------ | ----------------------------------------------------- |\n",
    "| `layers` | list 或 tuple（可选） | `None` | 一组层对象（如 `Dense`, `Conv2D` 等），按顺序堆叠组成模型。如果传入，模型即含有这些层。 |\n",
    "| `name`   | str（可选）          | 自动生成   | 模型名称，方便标识和保存。                                         |\n",
    "## 4. 重要方法\n",
    "| 方法                                       | 参数                                 | 说明                        |\n",
    "| ---------------------------------------- | ---------------------------------- | ------------------------- |\n",
    "| `add(layer)`                             | `layer`：`tf.keras.layers.Layer` 对象 | 向模型末尾追加一层。适合初始化时空模型，逐步构建。 |\n",
    "| `compile(optimizer, loss, metrics, ...)` | 常用训练参数                             | 配置训练过程。                   |\n",
    "| `fit(x, y, epochs, batch_size, ...)`     | 训练参数                               | 训练模型。                     |\n",
    "| `evaluate(x, y, batch_size, ...)`        | 评估参数                               | 测试模型。                     |\n",
    "| `predict(x, batch_size, ...)`            | 预测参数                               | 预测新数据。                    |\n",
    "| `summary()`                              | 无                                  | 打印模型结构。                   |\n",
    "\n",
    "## 5. 代码示例说明"
   ]
  },
  {
   "cell_type": "code",
   "execution_count": null,
   "id": "1e8415aa-3354-45f7-b8c6-d35e9c0f1d03",
   "metadata": {},
   "outputs": [],
   "source": [
    "model = tf.keras.Sequential([\n",
    "    layers.Dense(128, activation='relu', input_shape=(784,)),\n",
    "    layers.Dropout(0.2),\n",
    "    layers.Dense(10, activation='softmax')\n",
    "])\n",
    "\n",
    "model.compile(\n",
    "    optimizer='adam',\n",
    "    loss='sparse_categorical_crossentropy',\n",
    "    metrics=['accuracy']\n",
    ")\n",
    "\n",
    "model.summary()\n",
    "\n",
    "该模型是一个简单的全连接网络：\n",
    "第一层：Dense(128)，输入 784 维，激活 ReLU。\n",
    "第二层：Dropout(0.2)，训练时随机丢弃 20% 神经元，防止过拟合。\n",
    "第三层：Dense(10)，输出 10 个类别概率，用 softmax 激活。"
   ]
  },
  {
   "cell_type": "markdown",
   "id": "c90a117e-8edb-4944-ba85-f9feb105e732",
   "metadata": {},
   "source": [
    "## 6. 关键参数详解表（部分常用层参数）\n",
    "| 参数名           | 说明                         | 适用层举例              |\n",
    "| ------------- | -------------------------- | ------------------ |\n",
    "| `units`       | 神经元个数（输出维度）                | `Dense`            |\n",
    "| `activation`  | 激活函数名称或函数                  | 几乎所有层              |\n",
    "| `input_shape` | 输入数据形状（不含批次大小）             | 第一层必须指定，如 `(784,)` |\n",
    "| `rate`        | Dropout 丢弃比例（0\\~1）         | `Dropout`          |\n",
    "| `filters`     | 卷积核数量                      | `Conv2D`           |\n",
    "| `kernel_size` | 卷积核尺寸                      | `Conv2D`           |\n",
    "| `padding`     | 边缘填充方式（`'valid'`或`'same'`） | `Conv2D`           |\n",
    "\n",
    "## 总结\n",
    "| 特点    | 说明                                        |\n",
    "| ----- | ----------------------------------------- |\n",
    "| 适合场景  | 简单线性堆叠模型，无分支或多输入输出。                       |\n",
    "| 层添加方式 | 构造时传列表 或 先建空模型后用 `.add()` 逐层添加。           |\n",
    "| 灵活性   | 不支持复杂拓扑结构（如跳跃连接、残差、多个输入输出），需要用子类化或函数式API。 |\n"
   ]
  },
  {
   "cell_type": "code",
   "execution_count": null,
   "id": "189cfac2-71e7-41da-943f-23b139c3c75f",
   "metadata": {},
   "outputs": [],
   "source": []
  },
  {
   "cell_type": "code",
   "execution_count": null,
   "id": "130a320b-12bb-4292-964b-77b34b18130d",
   "metadata": {},
   "outputs": [],
   "source": []
  },
  {
   "cell_type": "code",
   "execution_count": null,
   "id": "81153e07-0c35-4f44-876b-fd43ea3dd2ab",
   "metadata": {},
   "outputs": [],
   "source": []
  },
  {
   "cell_type": "code",
   "execution_count": null,
   "id": "a5df0184-3e94-446d-aed3-e1a97121a793",
   "metadata": {},
   "outputs": [],
   "source": []
  },
  {
   "cell_type": "code",
   "execution_count": null,
   "id": "d4a6dc1b-1cf8-4822-8bc7-fbc7687f13ac",
   "metadata": {},
   "outputs": [],
   "source": []
  },
  {
   "cell_type": "code",
   "execution_count": null,
   "id": "edcccf36-9f19-4671-af07-e484db3e4ca3",
   "metadata": {},
   "outputs": [],
   "source": []
  },
  {
   "cell_type": "code",
   "execution_count": null,
   "id": "1573106f-69d2-4f76-825c-a88d06217649",
   "metadata": {},
   "outputs": [],
   "source": []
  },
  {
   "cell_type": "code",
   "execution_count": null,
   "id": "b3ac8320-4918-407d-9333-f19a7a5e21fc",
   "metadata": {},
   "outputs": [],
   "source": []
  },
  {
   "cell_type": "code",
   "execution_count": null,
   "id": "d20f7637-6ffe-435f-951d-6dfce20c8ff7",
   "metadata": {},
   "outputs": [],
   "source": []
  },
  {
   "cell_type": "code",
   "execution_count": null,
   "id": "c76707b7-16bd-45f5-bb43-64a0883d961a",
   "metadata": {},
   "outputs": [],
   "source": []
  }
 ],
 "metadata": {
  "kernelspec": {
   "display_name": "Python [conda env:deepseek_env]",
   "language": "python",
   "name": "conda-env-deepseek_env-py"
  },
  "language_info": {
   "codemirror_mode": {
    "name": "ipython",
    "version": 3
   },
   "file_extension": ".py",
   "mimetype": "text/x-python",
   "name": "python",
   "nbconvert_exporter": "python",
   "pygments_lexer": "ipython3",
   "version": "3.12.9"
  }
 },
 "nbformat": 4,
 "nbformat_minor": 5
}
